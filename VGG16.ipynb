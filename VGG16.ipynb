{
  "nbformat": 4,
  "nbformat_minor": 0,
  "metadata": {
    "language_info": {
      "codemirror_mode": {
        "name": "ipython",
        "version": 3
      },
      "file_extension": ".py",
      "mimetype": "text/x-python",
      "name": "python",
      "nbconvert_exporter": "python",
      "pygments_lexer": "ipython3",
      "version": "3.7.9-final"
    },
    "orig_nbformat": 2,
    "kernelspec": {
      "name": "python3",
      "display_name": "Python 3.7.9 64-bit ('python37': conda)",
      "metadata": {
        "interpreter": {
          "hash": "56918090559b2dfb924586d334310b74e75434cb73f2473ccf8876bfcc1690fc"
        }
      }
    },
    "colab": {
      "name": "VGG16.ipynb",
      "provenance": [],
      "collapsed_sections": []
    },
    "accelerator": "GPU"
  },
  "cells": [
    {
      "cell_type": "code",
      "metadata": {
        "id": "wMaLFwh4Rzrb",
        "colab": {
          "base_uri": "https://localhost:8080/"
        },
        "outputId": "834e565b-2d69-4fba-97e1-057433e6ba1f"
      },
      "source": [
        "!nvidia-smi"
      ],
      "execution_count": 1,
      "outputs": [
        {
          "output_type": "stream",
          "text": [
            "Tue Jan 19 08:00:38 2021       \n",
            "+-----------------------------------------------------------------------------+\n",
            "| NVIDIA-SMI 460.27.04    Driver Version: 418.67       CUDA Version: 10.1     |\n",
            "|-------------------------------+----------------------+----------------------+\n",
            "| GPU  Name        Persistence-M| Bus-Id        Disp.A | Volatile Uncorr. ECC |\n",
            "| Fan  Temp  Perf  Pwr:Usage/Cap|         Memory-Usage | GPU-Util  Compute M. |\n",
            "|                               |                      |               MIG M. |\n",
            "|===============================+======================+======================|\n",
            "|   0  Tesla T4            Off  | 00000000:00:04.0 Off |                    0 |\n",
            "| N/A   73C    P8    12W /  70W |      0MiB / 15079MiB |      0%      Default |\n",
            "|                               |                      |                 ERR! |\n",
            "+-------------------------------+----------------------+----------------------+\n",
            "                                                                               \n",
            "+-----------------------------------------------------------------------------+\n",
            "| Processes:                                                                  |\n",
            "|  GPU   GI   CI        PID   Type   Process name                  GPU Memory |\n",
            "|        ID   ID                                                   Usage      |\n",
            "|=============================================================================|\n",
            "|  No running processes found                                                 |\n",
            "+-----------------------------------------------------------------------------+\n"
          ],
          "name": "stdout"
        }
      ]
    },
    {
      "cell_type": "code",
      "metadata": {
        "id": "MkDzayYbO32E",
        "colab": {
          "base_uri": "https://localhost:8080/"
        },
        "outputId": "cec4e579-d07e-49bb-9d31-9c990c32fd70"
      },
      "source": [
        "import os\n",
        "\n",
        "from google.colab import drive\n",
        "drive.mount('/content/drive')"
      ],
      "execution_count": 2,
      "outputs": [
        {
          "output_type": "stream",
          "text": [
            "Drive already mounted at /content/drive; to attempt to forcibly remount, call drive.mount(\"/content/drive\", force_remount=True).\n"
          ],
          "name": "stdout"
        }
      ]
    },
    {
      "cell_type": "code",
      "metadata": {
        "id": "YDYKQwwMRgO5",
        "colab": {
          "base_uri": "https://localhost:8080/"
        },
        "outputId": "c43aab96-6a41-4ff3-e1d4-f935d4ba2b73"
      },
      "source": [
        "os.chdir('/content/drive/My Drive/AOI') #切換該目錄\r\n",
        "os.listdir() #確認目錄內容"
      ],
      "execution_count": 3,
      "outputs": [
        {
          "output_type": "execute_result",
          "data": {
            "text/plain": [
              "['test_images.zip',\n",
              " 'classify',\n",
              " 'Model.h5',\n",
              " 'test_images',\n",
              " 'csv',\n",
              " 'Model_Predict.ipynb',\n",
              " 'QC_Sampling.ipynb',\n",
              " 'QC_Diff_of_Predictions.ipynb',\n",
              " 'TL_VGG16',\n",
              " 'Model.ipynb',\n",
              " 'VGG16-valAcc9594.h5',\n",
              " 'VGG16-valAcc9683.h5',\n",
              " 'QC_toCSV.ipynb',\n",
              " 'TL_InceptionV3',\n",
              " 'VGG16-valAcc9286.h5',\n",
              " 'InceptionV3.h5',\n",
              " 'image_compare.ipynb',\n",
              " 'VGG16.ipynb',\n",
              " 'InceptionV3.ipynb']"
            ]
          },
          "metadata": {
            "tags": []
          },
          "execution_count": 3
        }
      ]
    },
    {
      "cell_type": "code",
      "metadata": {
        "id": "Ej_slIVpO32I"
      },
      "source": [
        "# input 為 灰階 256 * 256 圖像\n",
        "# 灰階 為 1 通道\n",
        "input_shape = (256, 256, 3)"
      ],
      "execution_count": 4,
      "outputs": []
    },
    {
      "cell_type": "markdown",
      "metadata": {
        "id": "e85Flb0xO32J"
      },
      "source": [
        "# Model building"
      ]
    },
    {
      "cell_type": "code",
      "metadata": {
        "id": "1Ja7anJSO32J",
        "colab": {
          "base_uri": "https://localhost:8080/"
        },
        "outputId": "5ddf9300-f25f-4a7c-96d0-5dc3ba95ccd0"
      },
      "source": [
        "from tensorflow.python.keras.applications.vgg16 import VGG16\n",
        "\n",
        "# transfer trainging\n",
        "# need not to include the output layer, we will redefine it later\n",
        "vgg16 = VGG16(include_top=False, input_shape=input_shape)\n",
        "vgg16.summary()"
      ],
      "execution_count": 5,
      "outputs": [
        {
          "output_type": "stream",
          "text": [
            "Model: \"vgg16\"\n",
            "_________________________________________________________________\n",
            "Layer (type)                 Output Shape              Param #   \n",
            "=================================================================\n",
            "input_1 (InputLayer)         [(None, 256, 256, 3)]     0         \n",
            "_________________________________________________________________\n",
            "block1_conv1 (Conv2D)        (None, 256, 256, 64)      1792      \n",
            "_________________________________________________________________\n",
            "block1_conv2 (Conv2D)        (None, 256, 256, 64)      36928     \n",
            "_________________________________________________________________\n",
            "block1_pool (MaxPooling2D)   (None, 128, 128, 64)      0         \n",
            "_________________________________________________________________\n",
            "block2_conv1 (Conv2D)        (None, 128, 128, 128)     73856     \n",
            "_________________________________________________________________\n",
            "block2_conv2 (Conv2D)        (None, 128, 128, 128)     147584    \n",
            "_________________________________________________________________\n",
            "block2_pool (MaxPooling2D)   (None, 64, 64, 128)       0         \n",
            "_________________________________________________________________\n",
            "block3_conv1 (Conv2D)        (None, 64, 64, 256)       295168    \n",
            "_________________________________________________________________\n",
            "block3_conv2 (Conv2D)        (None, 64, 64, 256)       590080    \n",
            "_________________________________________________________________\n",
            "block3_conv3 (Conv2D)        (None, 64, 64, 256)       590080    \n",
            "_________________________________________________________________\n",
            "block3_pool (MaxPooling2D)   (None, 32, 32, 256)       0         \n",
            "_________________________________________________________________\n",
            "block4_conv1 (Conv2D)        (None, 32, 32, 512)       1180160   \n",
            "_________________________________________________________________\n",
            "block4_conv2 (Conv2D)        (None, 32, 32, 512)       2359808   \n",
            "_________________________________________________________________\n",
            "block4_conv3 (Conv2D)        (None, 32, 32, 512)       2359808   \n",
            "_________________________________________________________________\n",
            "block4_pool (MaxPooling2D)   (None, 16, 16, 512)       0         \n",
            "_________________________________________________________________\n",
            "block5_conv1 (Conv2D)        (None, 16, 16, 512)       2359808   \n",
            "_________________________________________________________________\n",
            "block5_conv2 (Conv2D)        (None, 16, 16, 512)       2359808   \n",
            "_________________________________________________________________\n",
            "block5_conv3 (Conv2D)        (None, 16, 16, 512)       2359808   \n",
            "_________________________________________________________________\n",
            "block5_pool (MaxPooling2D)   (None, 8, 8, 512)         0         \n",
            "=================================================================\n",
            "Total params: 14,714,688\n",
            "Trainable params: 14,714,688\n",
            "Non-trainable params: 0\n",
            "_________________________________________________________________\n"
          ],
          "name": "stdout"
        }
      ]
    },
    {
      "cell_type": "code",
      "metadata": {
        "id": "YpzHPBFwO32K"
      },
      "source": [
        "from keras.models import Sequential\n",
        "from keras.layers import Dense, Dropout, Flatten\n",
        "\n",
        "def build_model(vgg16):\n",
        "    model = Sequential(vgg16.layers)\n",
        "\n",
        "    for layer in model.layers[:15]:\n",
        "        layer.trainable = False\n",
        "    \n",
        "    model.add(Flatten())\n",
        "    model.add(Dense(256, activation='relu'))\n",
        "    model.add(Dropout(0.25))\n",
        "    # redefine the output layer to 6 class(AOI )\n",
        "    model.add(Dense(6, activation='sigmoid'))\n",
        "\n",
        "    return model"
      ],
      "execution_count": 6,
      "outputs": []
    },
    {
      "cell_type": "code",
      "metadata": {
        "id": "4I3Aw1rUO32L"
      },
      "source": [
        "model = build_model(vgg16)"
      ],
      "execution_count": 7,
      "outputs": []
    },
    {
      "cell_type": "code",
      "metadata": {
        "id": "mDNkK2UHO32L",
        "colab": {
          "base_uri": "https://localhost:8080/"
        },
        "outputId": "d51f4f77-9e1d-4315-9d5a-4115b786a667"
      },
      "source": [
        "from keras.optimizers import Adam\n",
        "\n",
        "model.compile(\n",
        "    loss = 'categorical_crossentropy',\n",
        "    # optimizer=SGD(lr=1e-4, momentum=0.9),\n",
        "    optimizer=Adam(lr=1e-4),\n",
        "    metrics=['categorical_accuracy']\n",
        ")\n",
        "model.summary()"
      ],
      "execution_count": 8,
      "outputs": [
        {
          "output_type": "stream",
          "text": [
            "Model: \"sequential\"\n",
            "_________________________________________________________________\n",
            "Layer (type)                 Output Shape              Param #   \n",
            "=================================================================\n",
            "block1_conv1 (Conv2D)        (None, 256, 256, 64)      1792      \n",
            "_________________________________________________________________\n",
            "block1_conv2 (Conv2D)        (None, 256, 256, 64)      36928     \n",
            "_________________________________________________________________\n",
            "block1_pool (MaxPooling2D)   (None, 128, 128, 64)      0         \n",
            "_________________________________________________________________\n",
            "block2_conv1 (Conv2D)        (None, 128, 128, 128)     73856     \n",
            "_________________________________________________________________\n",
            "block2_conv2 (Conv2D)        (None, 128, 128, 128)     147584    \n",
            "_________________________________________________________________\n",
            "block2_pool (MaxPooling2D)   (None, 64, 64, 128)       0         \n",
            "_________________________________________________________________\n",
            "block3_conv1 (Conv2D)        (None, 64, 64, 256)       295168    \n",
            "_________________________________________________________________\n",
            "block3_conv2 (Conv2D)        (None, 64, 64, 256)       590080    \n",
            "_________________________________________________________________\n",
            "block3_conv3 (Conv2D)        (None, 64, 64, 256)       590080    \n",
            "_________________________________________________________________\n",
            "block3_pool (MaxPooling2D)   (None, 32, 32, 256)       0         \n",
            "_________________________________________________________________\n",
            "block4_conv1 (Conv2D)        (None, 32, 32, 512)       1180160   \n",
            "_________________________________________________________________\n",
            "block4_conv2 (Conv2D)        (None, 32, 32, 512)       2359808   \n",
            "_________________________________________________________________\n",
            "block4_conv3 (Conv2D)        (None, 32, 32, 512)       2359808   \n",
            "_________________________________________________________________\n",
            "block4_pool (MaxPooling2D)   (None, 16, 16, 512)       0         \n",
            "_________________________________________________________________\n",
            "block5_conv1 (Conv2D)        (None, 16, 16, 512)       2359808   \n",
            "_________________________________________________________________\n",
            "block5_conv2 (Conv2D)        (None, 16, 16, 512)       2359808   \n",
            "_________________________________________________________________\n",
            "block5_conv3 (Conv2D)        (None, 16, 16, 512)       2359808   \n",
            "_________________________________________________________________\n",
            "block5_pool (MaxPooling2D)   (None, 8, 8, 512)         0         \n",
            "_________________________________________________________________\n",
            "flatten (Flatten)            (None, 32768)             0         \n",
            "_________________________________________________________________\n",
            "dense (Dense)                (None, 256)               8388864   \n",
            "_________________________________________________________________\n",
            "dropout (Dropout)            (None, 256)               0         \n",
            "_________________________________________________________________\n",
            "dense_1 (Dense)              (None, 6)                 1542      \n",
            "=================================================================\n",
            "Total params: 23,105,094\n",
            "Trainable params: 13,110,022\n",
            "Non-trainable params: 9,995,072\n",
            "_________________________________________________________________\n"
          ],
          "name": "stdout"
        }
      ]
    },
    {
      "cell_type": "markdown",
      "metadata": {
        "id": "vcM7N7VoO32L"
      },
      "source": [
        "# pre"
      ]
    },
    {
      "cell_type": "code",
      "metadata": {
        "id": "nwFtvl9rO32M"
      },
      "source": [
        "# 將輸入圖片擴張\n",
        "from keras.preprocessing.image import ImageDataGenerator\n",
        "from keras.applications.vgg16 import preprocess_input\n",
        "\n",
        "train_datagen = ImageDataGenerator(\n",
        "    rescale=1/255.,\n",
        "    width_shift_range=1.0,\n",
        "    height_shift_range=1.0,\n",
        "    shear_range=0.1,\n",
        "    zoom_range=0.1,\n",
        "    horizontal_flip=True,\n",
        "    vertical_flip=True,\n",
        "    preprocessing_function=preprocess_input,\n",
        "    validation_split = 0.2\n",
        ")"
      ],
      "execution_count": 9,
      "outputs": []
    },
    {
      "cell_type": "code",
      "metadata": {
        "id": "FsoDEQtZO32M",
        "colab": {
          "base_uri": "https://localhost:8080/"
        },
        "outputId": "d0711d1a-d15f-4010-9fea-7fdcab973892"
      },
      "source": [
        "# 產生迭代器\n",
        "img_itr_train = train_datagen.flow_from_directory(\n",
        "    './classify',\n",
        "    target_size=(256, 256),\n",
        "    batch_size=64,\n",
        "    class_mode='categorical',\n",
        "    subset='training'\n",
        ")\n",
        "\n",
        "img_itr_valid = train_datagen.flow_from_directory(\n",
        "    './classify',\n",
        "    target_size=(256, 256),\n",
        "    batch_size=64,\n",
        "    class_mode='categorical',\n",
        "    subset='validation'\n",
        ")"
      ],
      "execution_count": 10,
      "outputs": [
        {
          "output_type": "stream",
          "text": [
            "Found 4047 images belonging to 6 classes.\n",
            "Found 1009 images belonging to 6 classes.\n"
          ],
          "name": "stdout"
        }
      ]
    },
    {
      "cell_type": "markdown",
      "metadata": {
        "id": "75A5GtDa3IuY"
      },
      "source": [
        "# Callback"
      ]
    },
    {
      "cell_type": "code",
      "metadata": {
        "id": "oio7Vb-j3JA6"
      },
      "source": [
        "from datetime import datetime\r\n",
        "\r\n",
        "model_dir = os.path.join(\r\n",
        "    'TL_VGG16',\r\n",
        "    datetime.now().strftime('%y%m%d_%H%M')\r\n",
        ")\r\n",
        "os.makedirs(model_dir, exist_ok=True)\r\n",
        "\r\n",
        "dir_weights = os.path.join(model_dir, 'weights')\r\n",
        "os.makedirs(dir_weights, exist_ok=True)"
      ],
      "execution_count": 11,
      "outputs": []
    },
    {
      "cell_type": "code",
      "metadata": {
        "id": "X4PbZQb25iVo"
      },
      "source": [
        "from keras.callbacks import ModelCheckpoint, CSVLogger, EarlyStopping\r\n",
        "\r\n",
        "# ModelCheckpoint\r\n",
        "cp_filepath = os.path.join(dir_weights, 'ep_{epoch:02d}_ls_{val_categorical_accuracy:.2f}.h5')\r\n",
        "cp = ModelCheckpoint(\r\n",
        "    cp_filepath,\r\n",
        "    monitor='val_categorical_accuracy',\r\n",
        "    verbose=1,\r\n",
        "    save_best_only=True,\r\n",
        "    save_weights_only=False,\r\n",
        "    mode='auto',\r\n",
        "    save_freq='epoch'\r\n",
        ")\r\n",
        "\r\n",
        "# CSVLogger\r\n",
        "csv_filepath = os.path.join(model_dir, 'loss.csv')\r\n",
        "csv = CSVLogger(csv_filepath, append=True)\r\n",
        "\r\n",
        "# EarlyStopping\r\n",
        "estop = EarlyStopping(\r\n",
        "    monitor='val_categorical_accuracy',\r\n",
        "    # min_delta=0.0001,\r\n",
        "    patience=32, \r\n",
        "    verbose=1,\r\n",
        "    mode='auto'\r\n",
        "    # restore_best_weights=False\r\n",
        ")"
      ],
      "execution_count": 12,
      "outputs": []
    },
    {
      "cell_type": "markdown",
      "metadata": {
        "id": "-BJQlYAoO32N"
      },
      "source": [
        "# Trainging"
      ]
    },
    {
      "cell_type": "code",
      "metadata": {
        "id": "PwKXCJTAO32P"
      },
      "source": [
        "import math\n",
        "\n",
        "# 計算幾個批次為一次學習\n",
        "batch_size = 64\n",
        "steps_per_epoch = math.ceil(\n",
        "    img_itr_train.samples/batch_size\n",
        ")\n",
        "validation_steps = math.ceil(\n",
        "    img_itr_valid.samples/batch_size\n",
        ")"
      ],
      "execution_count": 13,
      "outputs": []
    },
    {
      "cell_type": "code",
      "metadata": {
        "id": "wg5465siO32P",
        "colab": {
          "base_uri": "https://localhost:8080/"
        },
        "outputId": "92969227-2385-4d50-ebf6-3a7dfe1b848a"
      },
      "source": [
        "history = model.fit_generator(\n",
        "    img_itr_train,\n",
        "    steps_per_epoch=steps_per_epoch,\n",
        "    epochs=500,\n",
        "    validation_data=img_itr_valid,\n",
        "    validation_steps=validation_steps,\n",
        "    callbacks=[cp, csv, estop]\n",
        ")"
      ],
      "execution_count": 14,
      "outputs": [
        {
          "output_type": "stream",
          "text": [
            "/usr/local/lib/python3.6/dist-packages/tensorflow/python/keras/engine/training.py:1844: UserWarning: `Model.fit_generator` is deprecated and will be removed in a future version. Please use `Model.fit`, which supports generators.\n",
            "  warnings.warn('`Model.fit_generator` is deprecated and '\n"
          ],
          "name": "stderr"
        },
        {
          "output_type": "stream",
          "text": [
            "Epoch 1/500\n",
            "64/64 [==============================] - 87s 1s/step - loss: 0.9881 - categorical_accuracy: 0.6223 - val_loss: 0.6482 - val_categorical_accuracy: 0.7304\n",
            "\n",
            "Epoch 00001: val_categorical_accuracy improved from -inf to 0.73043, saving model to TL_VGG16/210119_0800/weights/ep_01_ls_0.73.h5\n",
            "Epoch 2/500\n",
            "64/64 [==============================] - 78s 1s/step - loss: 0.3799 - categorical_accuracy: 0.8609 - val_loss: 0.4631 - val_categorical_accuracy: 0.8285\n",
            "\n",
            "Epoch 00002: val_categorical_accuracy improved from 0.73043 to 0.82854, saving model to TL_VGG16/210119_0800/weights/ep_02_ls_0.83.h5\n",
            "Epoch 3/500\n",
            "64/64 [==============================] - 78s 1s/step - loss: 0.2976 - categorical_accuracy: 0.8961 - val_loss: 0.3848 - val_categorical_accuracy: 0.8503\n",
            "\n",
            "Epoch 00003: val_categorical_accuracy improved from 0.82854 to 0.85035, saving model to TL_VGG16/210119_0800/weights/ep_03_ls_0.85.h5\n",
            "Epoch 4/500\n",
            "64/64 [==============================] - 77s 1s/step - loss: 0.2622 - categorical_accuracy: 0.9048 - val_loss: 0.3503 - val_categorical_accuracy: 0.8662\n",
            "\n",
            "Epoch 00004: val_categorical_accuracy improved from 0.85035 to 0.86620, saving model to TL_VGG16/210119_0800/weights/ep_04_ls_0.87.h5\n",
            "Epoch 5/500\n",
            "64/64 [==============================] - 78s 1s/step - loss: 0.2260 - categorical_accuracy: 0.9148 - val_loss: 0.3499 - val_categorical_accuracy: 0.8781\n",
            "\n",
            "Epoch 00005: val_categorical_accuracy improved from 0.86620 to 0.87810, saving model to TL_VGG16/210119_0800/weights/ep_05_ls_0.88.h5\n",
            "Epoch 6/500\n",
            "64/64 [==============================] - 78s 1s/step - loss: 0.2055 - categorical_accuracy: 0.9260 - val_loss: 0.3442 - val_categorical_accuracy: 0.8741\n",
            "\n",
            "Epoch 00006: val_categorical_accuracy did not improve from 0.87810\n",
            "Epoch 7/500\n",
            "64/64 [==============================] - 77s 1s/step - loss: 0.2036 - categorical_accuracy: 0.9272 - val_loss: 0.3464 - val_categorical_accuracy: 0.8632\n",
            "\n",
            "Epoch 00007: val_categorical_accuracy did not improve from 0.87810\n",
            "Epoch 8/500\n",
            "64/64 [==============================] - 77s 1s/step - loss: 0.1718 - categorical_accuracy: 0.9307 - val_loss: 0.2932 - val_categorical_accuracy: 0.8811\n",
            "\n",
            "Epoch 00008: val_categorical_accuracy improved from 0.87810 to 0.88107, saving model to TL_VGG16/210119_0800/weights/ep_08_ls_0.88.h5\n",
            "Epoch 9/500\n",
            "64/64 [==============================] - 77s 1s/step - loss: 0.1781 - categorical_accuracy: 0.9327 - val_loss: 0.2886 - val_categorical_accuracy: 0.8920\n",
            "\n",
            "Epoch 00009: val_categorical_accuracy improved from 0.88107 to 0.89197, saving model to TL_VGG16/210119_0800/weights/ep_09_ls_0.89.h5\n",
            "Epoch 10/500\n",
            "64/64 [==============================] - 77s 1s/step - loss: 0.1752 - categorical_accuracy: 0.9356 - val_loss: 0.2375 - val_categorical_accuracy: 0.9128\n",
            "\n",
            "Epoch 00010: val_categorical_accuracy improved from 0.89197 to 0.91278, saving model to TL_VGG16/210119_0800/weights/ep_10_ls_0.91.h5\n",
            "Epoch 11/500\n",
            "64/64 [==============================] - 77s 1s/step - loss: 0.1634 - categorical_accuracy: 0.9381 - val_loss: 0.3265 - val_categorical_accuracy: 0.8573\n",
            "\n",
            "Epoch 00011: val_categorical_accuracy did not improve from 0.91278\n",
            "Epoch 12/500\n",
            "64/64 [==============================] - 77s 1s/step - loss: 0.1768 - categorical_accuracy: 0.9313 - val_loss: 0.2900 - val_categorical_accuracy: 0.9326\n",
            "\n",
            "Epoch 00012: val_categorical_accuracy improved from 0.91278 to 0.93261, saving model to TL_VGG16/210119_0800/weights/ep_12_ls_0.93.h5\n",
            "Epoch 13/500\n",
            "64/64 [==============================] - 77s 1s/step - loss: 0.1543 - categorical_accuracy: 0.9429 - val_loss: 0.3317 - val_categorical_accuracy: 0.8840\n",
            "\n",
            "Epoch 00013: val_categorical_accuracy did not improve from 0.93261\n",
            "Epoch 14/500\n",
            "64/64 [==============================] - 77s 1s/step - loss: 0.1463 - categorical_accuracy: 0.9402 - val_loss: 0.2304 - val_categorical_accuracy: 0.9197\n",
            "\n",
            "Epoch 00014: val_categorical_accuracy did not improve from 0.93261\n",
            "Epoch 15/500\n",
            "64/64 [==============================] - 77s 1s/step - loss: 0.1409 - categorical_accuracy: 0.9472 - val_loss: 0.2736 - val_categorical_accuracy: 0.9009\n",
            "\n",
            "Epoch 00015: val_categorical_accuracy did not improve from 0.93261\n",
            "Epoch 16/500\n",
            "64/64 [==============================] - 77s 1s/step - loss: 0.1207 - categorical_accuracy: 0.9564 - val_loss: 0.2993 - val_categorical_accuracy: 0.8920\n",
            "\n",
            "Epoch 00016: val_categorical_accuracy did not improve from 0.93261\n",
            "Epoch 17/500\n",
            "64/64 [==============================] - 77s 1s/step - loss: 0.1436 - categorical_accuracy: 0.9453 - val_loss: 0.3041 - val_categorical_accuracy: 0.8959\n",
            "\n",
            "Epoch 00017: val_categorical_accuracy did not improve from 0.93261\n",
            "Epoch 18/500\n",
            "64/64 [==============================] - 77s 1s/step - loss: 0.1502 - categorical_accuracy: 0.9452 - val_loss: 0.2347 - val_categorical_accuracy: 0.9316\n",
            "\n",
            "Epoch 00018: val_categorical_accuracy did not improve from 0.93261\n",
            "Epoch 19/500\n",
            "64/64 [==============================] - 77s 1s/step - loss: 0.1088 - categorical_accuracy: 0.9597 - val_loss: 0.2291 - val_categorical_accuracy: 0.9346\n",
            "\n",
            "Epoch 00019: val_categorical_accuracy improved from 0.93261 to 0.93459, saving model to TL_VGG16/210119_0800/weights/ep_19_ls_0.93.h5\n",
            "Epoch 20/500\n",
            "64/64 [==============================] - 77s 1s/step - loss: 0.1122 - categorical_accuracy: 0.9562 - val_loss: 0.2300 - val_categorical_accuracy: 0.9128\n",
            "\n",
            "Epoch 00020: val_categorical_accuracy did not improve from 0.93459\n",
            "Epoch 21/500\n",
            "64/64 [==============================] - 77s 1s/step - loss: 0.0945 - categorical_accuracy: 0.9648 - val_loss: 0.2228 - val_categorical_accuracy: 0.9356\n",
            "\n",
            "Epoch 00021: val_categorical_accuracy improved from 0.93459 to 0.93558, saving model to TL_VGG16/210119_0800/weights/ep_21_ls_0.94.h5\n",
            "Epoch 22/500\n",
            "64/64 [==============================] - 77s 1s/step - loss: 0.0951 - categorical_accuracy: 0.9654 - val_loss: 0.1994 - val_categorical_accuracy: 0.9415\n",
            "\n",
            "Epoch 00022: val_categorical_accuracy improved from 0.93558 to 0.94153, saving model to TL_VGG16/210119_0800/weights/ep_22_ls_0.94.h5\n",
            "Epoch 23/500\n",
            "64/64 [==============================] - 78s 1s/step - loss: 0.0875 - categorical_accuracy: 0.9684 - val_loss: 0.2202 - val_categorical_accuracy: 0.9366\n",
            "\n",
            "Epoch 00023: val_categorical_accuracy did not improve from 0.94153\n",
            "Epoch 24/500\n",
            "64/64 [==============================] - 77s 1s/step - loss: 0.0904 - categorical_accuracy: 0.9668 - val_loss: 0.2314 - val_categorical_accuracy: 0.9425\n",
            "\n",
            "Epoch 00024: val_categorical_accuracy improved from 0.94153 to 0.94252, saving model to TL_VGG16/210119_0800/weights/ep_24_ls_0.94.h5\n",
            "Epoch 25/500\n",
            "64/64 [==============================] - 77s 1s/step - loss: 0.0930 - categorical_accuracy: 0.9687 - val_loss: 0.1965 - val_categorical_accuracy: 0.9465\n",
            "\n",
            "Epoch 00025: val_categorical_accuracy improved from 0.94252 to 0.94648, saving model to TL_VGG16/210119_0800/weights/ep_25_ls_0.95.h5\n",
            "Epoch 26/500\n",
            "64/64 [==============================] - 78s 1s/step - loss: 0.0789 - categorical_accuracy: 0.9721 - val_loss: 0.1851 - val_categorical_accuracy: 0.9475\n",
            "\n",
            "Epoch 00026: val_categorical_accuracy improved from 0.94648 to 0.94747, saving model to TL_VGG16/210119_0800/weights/ep_26_ls_0.95.h5\n",
            "Epoch 27/500\n",
            "64/64 [==============================] - 78s 1s/step - loss: 0.0922 - categorical_accuracy: 0.9640 - val_loss: 0.2307 - val_categorical_accuracy: 0.9326\n",
            "\n",
            "Epoch 00027: val_categorical_accuracy did not improve from 0.94747\n",
            "Epoch 28/500\n",
            "64/64 [==============================] - 77s 1s/step - loss: 0.0967 - categorical_accuracy: 0.9657 - val_loss: 0.2585 - val_categorical_accuracy: 0.9177\n",
            "\n",
            "Epoch 00028: val_categorical_accuracy did not improve from 0.94747\n",
            "Epoch 29/500\n",
            "64/64 [==============================] - 77s 1s/step - loss: 0.0955 - categorical_accuracy: 0.9642 - val_loss: 0.3199 - val_categorical_accuracy: 0.9049\n",
            "\n",
            "Epoch 00029: val_categorical_accuracy did not improve from 0.94747\n",
            "Epoch 30/500\n",
            "64/64 [==============================] - 77s 1s/step - loss: 0.0847 - categorical_accuracy: 0.9674 - val_loss: 0.1787 - val_categorical_accuracy: 0.9485\n",
            "\n",
            "Epoch 00030: val_categorical_accuracy improved from 0.94747 to 0.94846, saving model to TL_VGG16/210119_0800/weights/ep_30_ls_0.95.h5\n",
            "Epoch 31/500\n",
            "64/64 [==============================] - 78s 1s/step - loss: 0.0843 - categorical_accuracy: 0.9669 - val_loss: 0.1719 - val_categorical_accuracy: 0.9495\n",
            "\n",
            "Epoch 00031: val_categorical_accuracy improved from 0.94846 to 0.94945, saving model to TL_VGG16/210119_0800/weights/ep_31_ls_0.95.h5\n",
            "Epoch 32/500\n",
            "64/64 [==============================] - 77s 1s/step - loss: 0.0866 - categorical_accuracy: 0.9701 - val_loss: 0.1987 - val_categorical_accuracy: 0.9435\n",
            "\n",
            "Epoch 00032: val_categorical_accuracy did not improve from 0.94945\n",
            "Epoch 33/500\n",
            "64/64 [==============================] - 77s 1s/step - loss: 0.0725 - categorical_accuracy: 0.9743 - val_loss: 0.2426 - val_categorical_accuracy: 0.9495\n",
            "\n",
            "Epoch 00033: val_categorical_accuracy did not improve from 0.94945\n",
            "Epoch 34/500\n",
            "64/64 [==============================] - 77s 1s/step - loss: 0.0657 - categorical_accuracy: 0.9721 - val_loss: 0.2436 - val_categorical_accuracy: 0.9316\n",
            "\n",
            "Epoch 00034: val_categorical_accuracy did not improve from 0.94945\n",
            "Epoch 35/500\n",
            "64/64 [==============================] - 77s 1s/step - loss: 0.0840 - categorical_accuracy: 0.9708 - val_loss: 0.2493 - val_categorical_accuracy: 0.9247\n",
            "\n",
            "Epoch 00035: val_categorical_accuracy did not improve from 0.94945\n",
            "Epoch 36/500\n",
            "64/64 [==============================] - 77s 1s/step - loss: 0.0585 - categorical_accuracy: 0.9770 - val_loss: 0.1883 - val_categorical_accuracy: 0.9554\n",
            "\n",
            "Epoch 00036: val_categorical_accuracy improved from 0.94945 to 0.95540, saving model to TL_VGG16/210119_0800/weights/ep_36_ls_0.96.h5\n",
            "Epoch 37/500\n",
            "64/64 [==============================] - 77s 1s/step - loss: 0.0800 - categorical_accuracy: 0.9687 - val_loss: 0.2338 - val_categorical_accuracy: 0.9306\n",
            "\n",
            "Epoch 00037: val_categorical_accuracy did not improve from 0.95540\n",
            "Epoch 38/500\n",
            "64/64 [==============================] - 77s 1s/step - loss: 0.0719 - categorical_accuracy: 0.9691 - val_loss: 0.2554 - val_categorical_accuracy: 0.9376\n",
            "\n",
            "Epoch 00038: val_categorical_accuracy did not improve from 0.95540\n",
            "Epoch 39/500\n",
            "64/64 [==============================] - 77s 1s/step - loss: 0.0794 - categorical_accuracy: 0.9694 - val_loss: 0.2135 - val_categorical_accuracy: 0.9415\n",
            "\n",
            "Epoch 00039: val_categorical_accuracy did not improve from 0.95540\n",
            "Epoch 40/500\n",
            "64/64 [==============================] - 77s 1s/step - loss: 0.0739 - categorical_accuracy: 0.9751 - val_loss: 0.1793 - val_categorical_accuracy: 0.9524\n",
            "\n",
            "Epoch 00040: val_categorical_accuracy did not improve from 0.95540\n",
            "Epoch 41/500\n",
            "64/64 [==============================] - 77s 1s/step - loss: 0.0711 - categorical_accuracy: 0.9766 - val_loss: 0.1673 - val_categorical_accuracy: 0.9604\n",
            "\n",
            "Epoch 00041: val_categorical_accuracy improved from 0.95540 to 0.96036, saving model to TL_VGG16/210119_0800/weights/ep_41_ls_0.96.h5\n",
            "Epoch 42/500\n",
            "64/64 [==============================] - 77s 1s/step - loss: 0.0670 - categorical_accuracy: 0.9775 - val_loss: 0.2152 - val_categorical_accuracy: 0.9346\n",
            "\n",
            "Epoch 00042: val_categorical_accuracy did not improve from 0.96036\n",
            "Epoch 43/500\n",
            "64/64 [==============================] - 78s 1s/step - loss: 0.0585 - categorical_accuracy: 0.9779 - val_loss: 0.2208 - val_categorical_accuracy: 0.9395\n",
            "\n",
            "Epoch 00043: val_categorical_accuracy did not improve from 0.96036\n",
            "Epoch 44/500\n",
            "64/64 [==============================] - 77s 1s/step - loss: 0.0785 - categorical_accuracy: 0.9686 - val_loss: 0.1913 - val_categorical_accuracy: 0.9485\n",
            "\n",
            "Epoch 00044: val_categorical_accuracy did not improve from 0.96036\n",
            "Epoch 45/500\n",
            "64/64 [==============================] - 77s 1s/step - loss: 0.0677 - categorical_accuracy: 0.9778 - val_loss: 0.1919 - val_categorical_accuracy: 0.9485\n",
            "\n",
            "Epoch 00045: val_categorical_accuracy did not improve from 0.96036\n",
            "Epoch 46/500\n",
            "64/64 [==============================] - 77s 1s/step - loss: 0.0809 - categorical_accuracy: 0.9704 - val_loss: 0.2190 - val_categorical_accuracy: 0.9524\n",
            "\n",
            "Epoch 00046: val_categorical_accuracy did not improve from 0.96036\n",
            "Epoch 47/500\n",
            "64/64 [==============================] - 78s 1s/step - loss: 0.0684 - categorical_accuracy: 0.9804 - val_loss: 0.2433 - val_categorical_accuracy: 0.9554\n",
            "\n",
            "Epoch 00047: val_categorical_accuracy did not improve from 0.96036\n",
            "Epoch 48/500\n",
            "64/64 [==============================] - 77s 1s/step - loss: 0.0642 - categorical_accuracy: 0.9757 - val_loss: 0.1883 - val_categorical_accuracy: 0.9564\n",
            "\n",
            "Epoch 00048: val_categorical_accuracy did not improve from 0.96036\n",
            "Epoch 49/500\n",
            "64/64 [==============================] - 77s 1s/step - loss: 0.0580 - categorical_accuracy: 0.9778 - val_loss: 0.2530 - val_categorical_accuracy: 0.9425\n",
            "\n",
            "Epoch 00049: val_categorical_accuracy did not improve from 0.96036\n",
            "Epoch 50/500\n",
            "64/64 [==============================] - 77s 1s/step - loss: 0.0649 - categorical_accuracy: 0.9751 - val_loss: 0.2069 - val_categorical_accuracy: 0.9554\n",
            "\n",
            "Epoch 00050: val_categorical_accuracy did not improve from 0.96036\n",
            "Epoch 51/500\n",
            "64/64 [==============================] - 77s 1s/step - loss: 0.0676 - categorical_accuracy: 0.9741 - val_loss: 0.2099 - val_categorical_accuracy: 0.9574\n",
            "\n",
            "Epoch 00051: val_categorical_accuracy did not improve from 0.96036\n",
            "Epoch 52/500\n",
            "64/64 [==============================] - 77s 1s/step - loss: 0.0487 - categorical_accuracy: 0.9818 - val_loss: 0.1950 - val_categorical_accuracy: 0.9594\n",
            "\n",
            "Epoch 00052: val_categorical_accuracy did not improve from 0.96036\n",
            "Epoch 53/500\n",
            "64/64 [==============================] - 77s 1s/step - loss: 0.0532 - categorical_accuracy: 0.9803 - val_loss: 0.2015 - val_categorical_accuracy: 0.9584\n",
            "\n",
            "Epoch 00053: val_categorical_accuracy did not improve from 0.96036\n",
            "Epoch 54/500\n",
            "64/64 [==============================] - 77s 1s/step - loss: 0.0604 - categorical_accuracy: 0.9790 - val_loss: 0.2000 - val_categorical_accuracy: 0.9584\n",
            "\n",
            "Epoch 00054: val_categorical_accuracy did not improve from 0.96036\n",
            "Epoch 55/500\n",
            "64/64 [==============================] - 77s 1s/step - loss: 0.0418 - categorical_accuracy: 0.9858 - val_loss: 0.2415 - val_categorical_accuracy: 0.9544\n",
            "\n",
            "Epoch 00055: val_categorical_accuracy did not improve from 0.96036\n",
            "Epoch 56/500\n",
            "64/64 [==============================] - 77s 1s/step - loss: 0.0579 - categorical_accuracy: 0.9784 - val_loss: 0.1805 - val_categorical_accuracy: 0.9544\n",
            "\n",
            "Epoch 00056: val_categorical_accuracy did not improve from 0.96036\n",
            "Epoch 57/500\n",
            "64/64 [==============================] - 77s 1s/step - loss: 0.0556 - categorical_accuracy: 0.9762 - val_loss: 0.2077 - val_categorical_accuracy: 0.9574\n",
            "\n",
            "Epoch 00057: val_categorical_accuracy did not improve from 0.96036\n",
            "Epoch 58/500\n",
            "64/64 [==============================] - 77s 1s/step - loss: 0.0528 - categorical_accuracy: 0.9778 - val_loss: 0.2084 - val_categorical_accuracy: 0.9544\n",
            "\n",
            "Epoch 00058: val_categorical_accuracy did not improve from 0.96036\n",
            "Epoch 59/500\n",
            "64/64 [==============================] - 77s 1s/step - loss: 0.0540 - categorical_accuracy: 0.9809 - val_loss: 0.2436 - val_categorical_accuracy: 0.9445\n",
            "\n",
            "Epoch 00059: val_categorical_accuracy did not improve from 0.96036\n",
            "Epoch 60/500\n",
            "64/64 [==============================] - 78s 1s/step - loss: 0.0423 - categorical_accuracy: 0.9857 - val_loss: 0.2435 - val_categorical_accuracy: 0.9514\n",
            "\n",
            "Epoch 00060: val_categorical_accuracy did not improve from 0.96036\n",
            "Epoch 61/500\n",
            "64/64 [==============================] - 78s 1s/step - loss: 0.0491 - categorical_accuracy: 0.9836 - val_loss: 0.2669 - val_categorical_accuracy: 0.9356\n",
            "\n",
            "Epoch 00061: val_categorical_accuracy did not improve from 0.96036\n",
            "Epoch 62/500\n",
            "64/64 [==============================] - 78s 1s/step - loss: 0.0364 - categorical_accuracy: 0.9885 - val_loss: 0.2466 - val_categorical_accuracy: 0.9326\n",
            "\n",
            "Epoch 00062: val_categorical_accuracy did not improve from 0.96036\n",
            "Epoch 63/500\n",
            "64/64 [==============================] - 78s 1s/step - loss: 0.0428 - categorical_accuracy: 0.9845 - val_loss: 0.1864 - val_categorical_accuracy: 0.9683\n",
            "\n",
            "Epoch 00063: val_categorical_accuracy improved from 0.96036 to 0.96829, saving model to TL_VGG16/210119_0800/weights/ep_63_ls_0.97.h5\n",
            "Epoch 64/500\n",
            "64/64 [==============================] - 78s 1s/step - loss: 0.0382 - categorical_accuracy: 0.9866 - val_loss: 0.2333 - val_categorical_accuracy: 0.9376\n",
            "\n",
            "Epoch 00064: val_categorical_accuracy did not improve from 0.96829\n",
            "Epoch 65/500\n",
            "64/64 [==============================] - 77s 1s/step - loss: 0.0774 - categorical_accuracy: 0.9747 - val_loss: 0.2383 - val_categorical_accuracy: 0.9504\n",
            "\n",
            "Epoch 00065: val_categorical_accuracy did not improve from 0.96829\n",
            "Epoch 66/500\n",
            "64/64 [==============================] - 77s 1s/step - loss: 0.0671 - categorical_accuracy: 0.9789 - val_loss: 0.1531 - val_categorical_accuracy: 0.9653\n",
            "\n",
            "Epoch 00066: val_categorical_accuracy did not improve from 0.96829\n",
            "Epoch 67/500\n",
            "64/64 [==============================] - 78s 1s/step - loss: 0.0426 - categorical_accuracy: 0.9872 - val_loss: 0.2324 - val_categorical_accuracy: 0.9544\n",
            "\n",
            "Epoch 00067: val_categorical_accuracy did not improve from 0.96829\n",
            "Epoch 68/500\n",
            "64/64 [==============================] - 78s 1s/step - loss: 0.0483 - categorical_accuracy: 0.9812 - val_loss: 0.2154 - val_categorical_accuracy: 0.9564\n",
            "\n",
            "Epoch 00068: val_categorical_accuracy did not improve from 0.96829\n",
            "Epoch 69/500\n",
            "64/64 [==============================] - 78s 1s/step - loss: 0.0463 - categorical_accuracy: 0.9839 - val_loss: 0.2549 - val_categorical_accuracy: 0.9485\n",
            "\n",
            "Epoch 00069: val_categorical_accuracy did not improve from 0.96829\n",
            "Epoch 70/500\n",
            "64/64 [==============================] - 77s 1s/step - loss: 0.0476 - categorical_accuracy: 0.9815 - val_loss: 0.2231 - val_categorical_accuracy: 0.9564\n",
            "\n",
            "Epoch 00070: val_categorical_accuracy did not improve from 0.96829\n",
            "Epoch 71/500\n",
            "64/64 [==============================] - 77s 1s/step - loss: 0.0479 - categorical_accuracy: 0.9821 - val_loss: 0.2427 - val_categorical_accuracy: 0.9554\n",
            "\n",
            "Epoch 00071: val_categorical_accuracy did not improve from 0.96829\n",
            "Epoch 72/500\n",
            "64/64 [==============================] - 77s 1s/step - loss: 0.0437 - categorical_accuracy: 0.9846 - val_loss: 0.1877 - val_categorical_accuracy: 0.9574\n",
            "\n",
            "Epoch 00072: val_categorical_accuracy did not improve from 0.96829\n",
            "Epoch 73/500\n",
            "64/64 [==============================] - 77s 1s/step - loss: 0.0348 - categorical_accuracy: 0.9878 - val_loss: 0.2704 - val_categorical_accuracy: 0.9534\n",
            "\n",
            "Epoch 00073: val_categorical_accuracy did not improve from 0.96829\n",
            "Epoch 74/500\n",
            "64/64 [==============================] - 77s 1s/step - loss: 0.0475 - categorical_accuracy: 0.9856 - val_loss: 0.2377 - val_categorical_accuracy: 0.9475\n",
            "\n",
            "Epoch 00074: val_categorical_accuracy did not improve from 0.96829\n",
            "Epoch 75/500\n",
            "64/64 [==============================] - 77s 1s/step - loss: 0.0392 - categorical_accuracy: 0.9833 - val_loss: 0.3074 - val_categorical_accuracy: 0.9613\n",
            "\n",
            "Epoch 00075: val_categorical_accuracy did not improve from 0.96829\n",
            "Epoch 76/500\n",
            "64/64 [==============================] - 77s 1s/step - loss: 0.0369 - categorical_accuracy: 0.9876 - val_loss: 0.2253 - val_categorical_accuracy: 0.9554\n",
            "\n",
            "Epoch 00076: val_categorical_accuracy did not improve from 0.96829\n",
            "Epoch 77/500\n",
            "64/64 [==============================] - 77s 1s/step - loss: 0.0320 - categorical_accuracy: 0.9848 - val_loss: 0.2188 - val_categorical_accuracy: 0.9514\n",
            "\n",
            "Epoch 00077: val_categorical_accuracy did not improve from 0.96829\n",
            "Epoch 78/500\n",
            "64/64 [==============================] - 78s 1s/step - loss: 0.0373 - categorical_accuracy: 0.9883 - val_loss: 0.2538 - val_categorical_accuracy: 0.9504\n",
            "\n",
            "Epoch 00078: val_categorical_accuracy did not improve from 0.96829\n",
            "Epoch 79/500\n",
            "64/64 [==============================] - 78s 1s/step - loss: 0.0463 - categorical_accuracy: 0.9818 - val_loss: 0.2025 - val_categorical_accuracy: 0.9554\n",
            "\n",
            "Epoch 00079: val_categorical_accuracy did not improve from 0.96829\n",
            "Epoch 80/500\n",
            "64/64 [==============================] - 77s 1s/step - loss: 0.0421 - categorical_accuracy: 0.9853 - val_loss: 0.2067 - val_categorical_accuracy: 0.9514\n",
            "\n",
            "Epoch 00080: val_categorical_accuracy did not improve from 0.96829\n",
            "Epoch 81/500\n",
            "64/64 [==============================] - 78s 1s/step - loss: 0.0464 - categorical_accuracy: 0.9835 - val_loss: 0.3084 - val_categorical_accuracy: 0.9514\n",
            "\n",
            "Epoch 00081: val_categorical_accuracy did not improve from 0.96829\n",
            "Epoch 82/500\n",
            "64/64 [==============================] - 77s 1s/step - loss: 0.0476 - categorical_accuracy: 0.9831 - val_loss: 0.2256 - val_categorical_accuracy: 0.9604\n",
            "\n",
            "Epoch 00082: val_categorical_accuracy did not improve from 0.96829\n",
            "Epoch 83/500\n",
            "64/64 [==============================] - 78s 1s/step - loss: 0.0391 - categorical_accuracy: 0.9867 - val_loss: 0.2020 - val_categorical_accuracy: 0.9633\n",
            "\n",
            "Epoch 00083: val_categorical_accuracy did not improve from 0.96829\n",
            "Epoch 84/500\n",
            "64/64 [==============================] - 78s 1s/step - loss: 0.0421 - categorical_accuracy: 0.9823 - val_loss: 0.2421 - val_categorical_accuracy: 0.9495\n",
            "\n",
            "Epoch 00084: val_categorical_accuracy did not improve from 0.96829\n",
            "Epoch 85/500\n",
            "64/64 [==============================] - 78s 1s/step - loss: 0.0396 - categorical_accuracy: 0.9891 - val_loss: 0.1897 - val_categorical_accuracy: 0.9663\n",
            "\n",
            "Epoch 00085: val_categorical_accuracy did not improve from 0.96829\n",
            "Epoch 86/500\n",
            "64/64 [==============================] - 78s 1s/step - loss: 0.0373 - categorical_accuracy: 0.9863 - val_loss: 0.2326 - val_categorical_accuracy: 0.9613\n",
            "\n",
            "Epoch 00086: val_categorical_accuracy did not improve from 0.96829\n",
            "Epoch 87/500\n",
            "64/64 [==============================] - 78s 1s/step - loss: 0.0224 - categorical_accuracy: 0.9933 - val_loss: 0.2569 - val_categorical_accuracy: 0.9653\n",
            "\n",
            "Epoch 00087: val_categorical_accuracy did not improve from 0.96829\n",
            "Epoch 88/500\n",
            "64/64 [==============================] - 78s 1s/step - loss: 0.0286 - categorical_accuracy: 0.9899 - val_loss: 0.2083 - val_categorical_accuracy: 0.9653\n",
            "\n",
            "Epoch 00088: val_categorical_accuracy did not improve from 0.96829\n",
            "Epoch 89/500\n",
            "64/64 [==============================] - 78s 1s/step - loss: 0.0413 - categorical_accuracy: 0.9857 - val_loss: 0.2094 - val_categorical_accuracy: 0.9613\n",
            "\n",
            "Epoch 00089: val_categorical_accuracy did not improve from 0.96829\n",
            "Epoch 90/500\n",
            "64/64 [==============================] - 77s 1s/step - loss: 0.0317 - categorical_accuracy: 0.9915 - val_loss: 0.2149 - val_categorical_accuracy: 0.9534\n",
            "\n",
            "Epoch 00090: val_categorical_accuracy did not improve from 0.96829\n",
            "Epoch 91/500\n",
            "64/64 [==============================] - 77s 1s/step - loss: 0.0240 - categorical_accuracy: 0.9908 - val_loss: 0.1880 - val_categorical_accuracy: 0.9653\n",
            "\n",
            "Epoch 00091: val_categorical_accuracy did not improve from 0.96829\n",
            "Epoch 92/500\n",
            "64/64 [==============================] - 77s 1s/step - loss: 0.0250 - categorical_accuracy: 0.9889 - val_loss: 0.2277 - val_categorical_accuracy: 0.9574\n",
            "\n",
            "Epoch 00092: val_categorical_accuracy did not improve from 0.96829\n",
            "Epoch 93/500\n",
            "64/64 [==============================] - 77s 1s/step - loss: 0.0334 - categorical_accuracy: 0.9875 - val_loss: 0.2765 - val_categorical_accuracy: 0.9534\n",
            "\n",
            "Epoch 00093: val_categorical_accuracy did not improve from 0.96829\n",
            "Epoch 94/500\n",
            "64/64 [==============================] - 77s 1s/step - loss: 0.0357 - categorical_accuracy: 0.9867 - val_loss: 0.2042 - val_categorical_accuracy: 0.9554\n",
            "\n",
            "Epoch 00094: val_categorical_accuracy did not improve from 0.96829\n",
            "Epoch 95/500\n",
            "64/64 [==============================] - 78s 1s/step - loss: 0.0291 - categorical_accuracy: 0.9893 - val_loss: 0.2714 - val_categorical_accuracy: 0.9465\n",
            "\n",
            "Epoch 00095: val_categorical_accuracy did not improve from 0.96829\n",
            "Epoch 00095: early stopping\n"
          ],
          "name": "stdout"
        }
      ]
    },
    {
      "cell_type": "code",
      "metadata": {
        "id": "OWzAwLFQRZO-"
      },
      "source": [
        "model.save('VGG16.h5')\r\n",
        "\r\n",
        "from google.colab import files\r\n",
        "# files.download('Transfer_Training.h5')"
      ],
      "execution_count": 15,
      "outputs": []
    },
    {
      "cell_type": "markdown",
      "metadata": {
        "id": "FHAXfDkDuH0X"
      },
      "source": [
        "# Review"
      ]
    },
    {
      "cell_type": "code",
      "metadata": {
        "id": "GpQ0_6xiO32P",
        "colab": {
          "base_uri": "https://localhost:8080/",
          "height": 266
        },
        "outputId": "2e752536-561c-4410-8bfe-4566bd09f4f9"
      },
      "source": [
        "import matplotlib.pyplot as plt\n",
        "\n",
        "loss = history.history['loss']\n",
        "acc = history.history['categorical_accuracy']\n",
        "epochs = range(1, len(loss)+1)\n",
        "val_loss = history.history['val_loss']\n",
        "val_acc = history.history['val_categorical_accuracy']\n",
        "\n",
        "fig, ax = plt.subplots(nrows=1, ncols=2)\n",
        "ax[0].plot(epochs, loss, 'b', label='loss')\n",
        "ax[0].plot(epochs, val_loss, 'r', label='validation loss')\n",
        "ax[0].legend()\n",
        "ax[1].plot(epochs, acc, 'b', label='accuracy')\n",
        "ax[1].plot(epochs, val_acc, 'r', label='validation accuracy')\n",
        "ax[1].legend()\n",
        "plt.show()"
      ],
      "execution_count": 16,
      "outputs": [
        {
          "output_type": "display_data",
          "data": {
            "image/png": "[encoded data removed]",
            "text/plain": [
              "<Figure size 432x288 with 2 Axes>"
            ]
          },
          "metadata": {
            "tags": [],
            "needs_background": "light"
          }
        }
      ]
    },
    {
      "cell_type": "markdown",
      "metadata": {
        "id": "oc5L-ZvCuJyf"
      },
      "source": [
        "# Valid"
      ]
    },
    {
      "cell_type": "code",
      "metadata": {
        "id": "N3pubotFGOSA",
        "colab": {
          "base_uri": "https://localhost:8080/"
        },
        "outputId": "6e644d9b-52b8-428a-e96b-b8bc2596dc65"
      },
      "source": [
        "valid_datagen = ImageDataGenerator(\r\n",
        "    rescale=1./255,\r\n",
        "    preprocessing_function=preprocess_input\r\n",
        ")\r\n",
        "\r\n",
        "evaluate_itr = valid_datagen.flow_from_directory(\r\n",
        "    './classify',\r\n",
        "    target_size=(256, 256),\r\n",
        "    batch_size=64,\r\n",
        "    class_mode='categorical',\r\n",
        "    shuffle=False\r\n",
        ")\r\n",
        "\r\n",
        "loss, accuracy = model.evaluate_generator(evaluate_itr)\r\n",
        "print(f'loss = {loss:.2f}')\r\n",
        "print(f'accuracy = {accuracy:.2f}')"
      ],
      "execution_count": 17,
      "outputs": [
        {
          "output_type": "stream",
          "text": [
            "Found 5056 images belonging to 6 classes.\n"
          ],
          "name": "stdout"
        },
        {
          "output_type": "stream",
          "text": [
            "/usr/local/lib/python3.6/dist-packages/tensorflow/python/keras/engine/training.py:1877: UserWarning: `Model.evaluate_generator` is deprecated and will be removed in a future version. Please use `Model.evaluate`, which supports generators.\n",
            "  warnings.warn('`Model.evaluate_generator` is deprecated and '\n"
          ],
          "name": "stderr"
        },
        {
          "output_type": "stream",
          "text": [
            "loss = 0.11\n",
            "accuracy = 0.97\n"
          ],
          "name": "stdout"
        }
      ]
    },
    {
      "cell_type": "code",
      "metadata": {
        "colab": {
          "base_uri": "https://localhost:8080/"
        },
        "id": "vVYHpZQ2HIB_",
        "outputId": "3bfe4ab0-5640-4c8e-9e3c-e6985a3118ea"
      },
      "source": [
        "import numpy as np\r\n",
        "\r\n",
        "# labels\r\n",
        "labels = evaluate_itr.class_indices\r\n",
        "\r\n",
        "# then use predict_geneorator to predict the result base on model\r\n",
        "evaluate_itr.reset()\r\n",
        "pred = model.predict_generator(evaluate_itr, verbose=1)\r\n",
        "\r\n",
        "# prediction from model\r\n",
        "predicted_class_indices = np.argmax(pred, axis=1)\r\n",
        "# real results in training set\r\n",
        "true_label= evaluate_itr.classes"
      ],
      "execution_count": 20,
      "outputs": [
        {
          "output_type": "stream",
          "text": [
            "/usr/local/lib/python3.6/dist-packages/tensorflow/python/keras/engine/training.py:1905: UserWarning: `Model.predict_generator` is deprecated and will be removed in a future version. Please use `Model.predict`, which supports generators.\n",
            "  warnings.warn('`Model.predict_generator` is deprecated and '\n"
          ],
          "name": "stderr"
        },
        {
          "output_type": "stream",
          "text": [
            "79/79 [==============================] - 25s 316ms/step\n"
          ],
          "name": "stdout"
        }
      ]
    },
    {
      "cell_type": "code",
      "metadata": {
        "id": "SASG2NmquPvr",
        "colab": {
          "base_uri": "https://localhost:8080/",
          "height": 263
        },
        "outputId": "7fa2fd25-17b1-4923-d037-e46d6d438bd8"
      },
      "source": [
        "#使用pd.crosstab来简单画出混淆矩阵\r\n",
        "import pandas as pd\r\n",
        "\r\n",
        "table = pd.crosstab(predicted_class_indices, true_label,colnames=['predict'], rownames=['label'])\r\n",
        "table"
      ],
      "execution_count": 21,
      "outputs": [
        {
          "output_type": "execute_result",
          "data": {
            "text/html": [
              "<div>\n",
              "<style scoped>\n",
              "    .dataframe tbody tr th:only-of-type {\n",
              "        vertical-align: middle;\n",
              "    }\n",
              "\n",
              "    .dataframe tbody tr th {\n",
              "        vertical-align: top;\n",
              "    }\n",
              "\n",
              "    .dataframe thead th {\n",
              "        text-align: right;\n",
              "    }\n",
              "</style>\n",
              "<table border=\"1\" class=\"dataframe\">\n",
              "  <thead>\n",
              "    <tr style=\"text-align: right;\">\n",
              "      <th>predict</th>\n",
              "      <th>0</th>\n",
              "      <th>1</th>\n",
              "      <th>2</th>\n",
              "      <th>3</th>\n",
              "      <th>4</th>\n",
              "      <th>5</th>\n",
              "    </tr>\n",
              "    <tr>\n",
              "      <th>label</th>\n",
              "      <th></th>\n",
              "      <th></th>\n",
              "      <th></th>\n",
              "      <th></th>\n",
              "      <th></th>\n",
              "      <th></th>\n",
              "    </tr>\n",
              "  </thead>\n",
              "  <tbody>\n",
              "    <tr>\n",
              "      <th>0</th>\n",
              "      <td>1248</td>\n",
              "      <td>4</td>\n",
              "      <td>29</td>\n",
              "      <td>1</td>\n",
              "      <td>0</td>\n",
              "      <td>0</td>\n",
              "    </tr>\n",
              "    <tr>\n",
              "      <th>1</th>\n",
              "      <td>1</td>\n",
              "      <td>965</td>\n",
              "      <td>0</td>\n",
              "      <td>19</td>\n",
              "      <td>7</td>\n",
              "      <td>0</td>\n",
              "    </tr>\n",
              "    <tr>\n",
              "      <th>2</th>\n",
              "      <td>2</td>\n",
              "      <td>0</td>\n",
              "      <td>170</td>\n",
              "      <td>0</td>\n",
              "      <td>0</td>\n",
              "      <td>0</td>\n",
              "    </tr>\n",
              "    <tr>\n",
              "      <th>3</th>\n",
              "      <td>97</td>\n",
              "      <td>10</td>\n",
              "      <td>1</td>\n",
              "      <td>735</td>\n",
              "      <td>32</td>\n",
              "      <td>8</td>\n",
              "    </tr>\n",
              "    <tr>\n",
              "      <th>4</th>\n",
              "      <td>0</td>\n",
              "      <td>1</td>\n",
              "      <td>0</td>\n",
              "      <td>1</td>\n",
              "      <td>441</td>\n",
              "      <td>0</td>\n",
              "    </tr>\n",
              "    <tr>\n",
              "      <th>5</th>\n",
              "      <td>0</td>\n",
              "      <td>4</td>\n",
              "      <td>0</td>\n",
              "      <td>0</td>\n",
              "      <td>0</td>\n",
              "      <td>1280</td>\n",
              "    </tr>\n",
              "  </tbody>\n",
              "</table>\n",
              "</div>"
            ],
            "text/plain": [
              "predict     0    1    2    3    4     5\n",
              "label                                  \n",
              "0        1248    4   29    1    0     0\n",
              "1           1  965    0   19    7     0\n",
              "2           2    0  170    0    0     0\n",
              "3          97   10    1  735   32     8\n",
              "4           0    1    0    1  441     0\n",
              "5           0    4    0    0    0  1280"
            ]
          },
          "metadata": {
            "tags": []
          },
          "execution_count": 21
        }
      ]
    }
  ]
}